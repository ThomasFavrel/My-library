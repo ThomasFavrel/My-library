{
 "cells": [
  {
   "cell_type": "markdown",
   "metadata": {},
   "source": [
    "# RECUPÉRATION DES DONNÉES\n",
    "\n",
    "* [Source externe](#source_externe)\n",
    "    * [Section 1.1](#section_1_1)\n",
    "    * [Section 1.2](#Section_1_2)\n",
    "        * [Section 1.2.1](#section_1_2_1)\n",
    "        * [Section 1.2.2](#section_1_2_2)\n",
    "        * [Section 1.2.3](#section_1_2_3)\n",
    "* [Chapter 2](#chapter2)\n",
    "    * [Section 2.1](#section_2_1)\n",
    "    * [Section 2.2](#section_2_2)"
   ]
  },
  {
   "cell_type": "markdown",
   "metadata": {},
   "source": [
    "### Source externe <a class=\"anchor\" id=\"source_externe\"></a>\n",
    "\n",
    "#### Section 1.1 <a class=\"anchor\" id=\"section_1_1\"></a>\n",
    "\n",
    "#### Section 1.2 <a class=\"anchor\" id=\"section_1_2\"></a>\n",
    "\n",
    "##### Section 1.2.1 <a class=\"anchor\" id=\"section_1_2_1\"></a>\n",
    "\n",
    "##### Section 1.2.2 <a class=\"anchor\" id=\"section_1_2_2\"></a>\n",
    "\n",
    "##### Section 1.2.3 <a class=\"anchor\" id=\"section_1_2_3\"></a>\n",
    "\n",
    "### Chapter 2 <a class=\"anchor\" id=\"chapter2\"></a>\n",
    "\n",
    "#### Section 2.1 <a class=\"anchor\" id=\"section_2_1\"></a>\n",
    "\n",
    "#### Section 2.2 <a class=\"anchor\" id=\"section_2_2\"></a>"
   ]
  },
  {
   "cell_type": "markdown",
   "metadata": {},
   "source": [
    "## Source externe <a class=\"anchor\" id=\"source_externe\"></a>"
   ]
  },
  {
   "cell_type": "code",
   "execution_count": null,
   "metadata": {},
   "outputs": [],
   "source": []
  }
 ],
 "metadata": {
  "kernelspec": {
   "display_name": "Python 3",
   "language": "python",
   "name": "python3"
  },
  "language_info": {
   "codemirror_mode": {
    "name": "ipython",
    "version": 3
   },
   "file_extension": ".py",
   "mimetype": "text/x-python",
   "name": "python",
   "nbconvert_exporter": "python",
   "pygments_lexer": "ipython3",
   "version": "3.8.5"
  }
 },
 "nbformat": 4,
 "nbformat_minor": 4
}
